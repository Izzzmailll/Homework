{
 "cells": [
  {
   "cell_type": "code",
   "execution_count": 12,
   "metadata": {},
   "outputs": [],
   "source": [
    "import pandas as pd\n",
    "import numpy as np\n",
    "from matplotlib import pyplot as plt\n",
    "from scipy.stats import f\n",
    "import statsmodels.api as sm\n",
    "from statsmodels.tsa.stattools import grangercausalitytests"
   ]
  },
  {
   "cell_type": "code",
   "execution_count": 13,
   "metadata": {},
   "outputs": [],
   "source": [
    "tweet_data = pd.read_csv(\"vaccination_all_tweets.csv\")\n",
    "vac = pd.read_csv(\"vaccinations.csv\")"
   ]
  },
  {
   "cell_type": "code",
   "execution_count": 14,
   "metadata": {},
   "outputs": [],
   "source": [
    "# Произведем группировку данных по дате\n",
    "grouped_data = vac.groupby('date')\n",
    "# Подсчет уникальных местоположений и суммирование ежедневной вакцинации\n",
    "vac_data = grouped_data.agg({'location': 'count', 'daily_vaccinations': 'sum'}).reset_index()\n",
    "vac_data = vac_data.rename(columns={'location': 'counties_count'})"
   ]
  },
  {
   "cell_type": "code",
   "execution_count": 15,
   "metadata": {},
   "outputs": [],
   "source": [
    "# Изменение формата данных для удобства\n",
    "tweet_data['date'] = pd.to_datetime(tweet_data['date'], format='%Y-%m-%d %H:%M:%S')"
   ]
  },
  {
   "cell_type": "code",
   "execution_count": 16,
   "metadata": {},
   "outputs": [],
   "source": [
    "# Опять сгруппируем данные по дате\n",
    "tweet_data = (tweet_data.groupby(tweet_data['date'].dt.date))\n",
    "# Подсчет суммирование ежедневной ретвитов\n",
    "tweet_data = tweet_data.agg({'retweets': 'sum'})\n",
    "tweet_data = tweet_data.reset_index()"
   ]
  },
  {
   "cell_type": "code",
   "execution_count": 17,
   "metadata": {},
   "outputs": [],
   "source": [
    "df = pd.DataFrame(vac_data)\n",
    "df[\"tweets\"] = tweet_data[\"retweets\"]"
   ]
  },
  {
   "cell_type": "code",
   "execution_count": 18,
   "metadata": {},
   "outputs": [],
   "source": [
    "# Функция ауторегрессии для предсказания следующего значения по предыдущему\n",
    "def autoregression(data_series, order, forecast_amount):\n",
    "    coefficients = np.ones(order)\n",
    "    lagged_matrix = np.array([data_series[i:order + i] for i in range(len(data_series) - order - 1)])\n",
    "    coefficients = np.linalg.lstsq(lagged_matrix, data_series[order + 1:len(data_series)], rcond=None)[0]\n",
    "    \n",
    "    data_list = data_series.values.tolist()\n",
    "    \n",
    "    for _ in range(forecast_amount):\n",
    "        prediction = np.dot(coefficients, data_list[-order:])\n",
    "        data_list.append(prediction)\n",
    "    \n",
    "    return np.array(data_list)\n",
    "# Функция комбинированной регрессии. С ее помощью мы можем учесть влияние количесва твитов на количество вакцинаций при прогнозировании будущих значений\n",
    "def combined_autoregression(X_series, Y_series, order_x, order_y, forecast_amount):\n",
    "    combined_order = order_x + order_y\n",
    "    combined_coefficients = np.ones(combined_order)\n",
    "    \n",
    "    X_lagged_matrix = np.array([X_series[i:order_x + i] for i in range(len(X_series) - order_x - 1)])\n",
    "    Y_lagged_matrix = np.array([Y_series[i:order_y + i] for i in range(len(Y_series) - order_y - 1)])\n",
    "    \n",
    "    combined_matrix = np.column_stack((X_lagged_matrix, Y_lagged_matrix))\n",
    "    combined_coefficients = np.linalg.lstsq(combined_matrix, X_series[order_x + 1:len(X_series)], rcond=None)[0]\n",
    "    \n",
    "    X_list = X_series.values.tolist()\n",
    "    Y_list = Y_series.values.tolist()\n",
    "    \n",
    "    for _ in range(forecast_amount):\n",
    "        combined_pred = np.dot(combined_coefficients, X_list[-order_x:] + Y_list[-order_y:])\n",
    "        X_list.append(combined_pred)\n",
    "    \n",
    "    return np.array(X_list)\n"
   ]
  },
  {
   "cell_type": "code",
   "execution_count": 19,
   "metadata": {},
   "outputs": [],
   "source": [
    "# Получаем данные о ежедневных вакцинациях и ретвитах\n",
    "vac_per_day = df[\"daily_vaccinations\"]\n",
    "daily_tweet = df[\"tweets\"]\n",
    "predict_range = 5\n",
    "lag = len(vac_per_day) - predict_range - 2\n",
    "pred = autoregression(vac_per_day[:int(len(daily_vac)) - predict_range], lag ,predict_range)"
   ]
  },
  {
   "cell_type": "code",
   "execution_count": 20,
   "metadata": {},
   "outputs": [],
   "source": [
    "# Функция для использования теста Грейнджера\n",
    "def granger_causality_test(y_with_lag_residuals, y_without_lag_residuals, lag_order, regression_coefficients, n):\n",
    "    mse_with_lag = np.mean(y_with_lag_residuals ** 2)\n",
    "    mse_without_lag = np.mean(y_without_lag_residuals ** 2)\n",
    "    f_statistic = (abs(mse_without_lag - mse_with_lag) / lag_order) / (mse_with_lag / abs(n - lag_order - regression_coefficients))\n",
    "    p_value = f.sf(f_statistic, lag_order, n - lag_order - regression_coefficients)\n",
    "    return f_statistic, p_value"
   ]
  },
  {
   "cell_type": "code",
   "execution_count": 21,
   "metadata": {},
   "outputs": [],
   "source": [
    "lag_vac = len(vac_per_day) - predict_range - 2\n",
    "predicted_lag_vac = combined_autoregression(vac_per_day[:int(len(daily_vac)) - predict_range], daily_tweet[:int(len(daily_vac)) - predict_range], lag_vac, lag_vac, predict_range)"
   ]
  },
  {
   "cell_type": "code",
   "execution_count": 22,
   "metadata": {},
   "outputs": [
    {
     "name": "stdout",
     "output_type": "stream",
     "text": [
      "F-статистика: 6.223212784058254e-13, P-значение: 0.9999999999999999\n",
      "\n",
      "Так как 0.9999999999999999 > 0.05, то мы не можем отвергнуть нулевую гипотезу\n"
     ]
    }
   ],
   "source": [
    "# Теперь применим тест Грейнджера для оценки причинно-следственной связи между предсказанными значениями вакцинации и ретвитами\n",
    "f_statistic, p_value = granger_causality_test(pred, predicted_lag_vac, lag_vac, 2, len(pred)-1)\n",
    "critical = f.ppf(0.95, 2, len(pred)-1) \n",
    "print(f\"F-статистика: {f_statistic}, P-значение: {p_value}\")\n",
    "print(f'\\nТак как {p_value} > 0.05, то мы не можем отвергнуть нулевую гипотезу')"
   ]
  },
  {
   "cell_type": "code",
   "execution_count": 23,
   "metadata": {},
   "outputs": [],
   "source": [
    "vac_per_day = df[\"daily_vaccinations\"]\n",
    "predict_range = 5\n",
    "lag_tweet = len(vac_per_day) - predict_range - 2\n",
    "daily_tweet = df[\"tweets\"]\n",
    "predicted_lag_tweet = combined_autoregression(daily_tweet[:int(len(daily_vac)) - predict_range], daily_vac[:int(len(daily_vac)) - predict_range], lag_tweet, lag_tweet, predict_range)"
   ]
  },
  {
   "cell_type": "code",
   "execution_count": 24,
   "metadata": {},
   "outputs": [
    {
     "name": "stdout",
     "output_type": "stream",
     "text": [
      "F-статистика: 0.015209125460696696, P-значение: 0.9999999999999999\n",
      "\n",
      "Так как 0.9999999999999999 > 0.05, то мы не можем отвергнуть нулевую гипотезу\n"
     ]
    }
   ],
   "source": [
    "f_statistic, p_value = granger_causality_test(pred, predicted_lag_tweet, lag_tweet, 2, len(pred)-1)\n",
    "critical = f.ppf(0.95, 2, len(pred)-1)\n",
    "print(f\"F-статистика: {f_statistic}, P-значение: {p_value}\")\n",
    "print(f'\\nТак как {p_value} > 0.05, то мы не можем отвергнуть нулевую гипотезу')"
   ]
  }
 ],
 "metadata": {
  "kernelspec": {
   "display_name": "Python 3 (ipykernel)",
   "language": "python",
   "name": "python3"
  },
  "language_info": {
   "codemirror_mode": {
    "name": "ipython",
    "version": 3
   },
   "file_extension": ".py",
   "mimetype": "text/x-python",
   "name": "python",
   "nbconvert_exporter": "python",
   "pygments_lexer": "ipython3",
   "version": "3.10.9"
  }
 },
 "nbformat": 4,
 "nbformat_minor": 2
}
